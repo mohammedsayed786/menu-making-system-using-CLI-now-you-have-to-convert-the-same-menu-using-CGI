{
 "cells": [
  {
   "cell_type": "code",
   "execution_count": null,
   "metadata": {},
   "outputs": [],
   "source": [
    "file:///home/<yourhomedirectory>/index.html\n",
    "    <html>\n",
    "<head>\n",
    "<title>My Web Page</title>\n",
    "</head>\n",
    "<body>\n",
    "<h1>Hello World</h1>\n",
    "</body>\n",
    "</html>\n",
    "ScriptAlias /cgi-bin/ \"/var/www/cgi-bin/\"\n",
    "#!/usr/bin/perl\n",
    "print \"Content-type: text/html\\n\\n\";\n",
    "print \"<html><body>\\n\";\n",
    "print \"<h1>Hello World</h1>\\n\";\n",
    "print \"Using Perl<p>\\n\";\n",
    "print \"</body></html>\\n\";\n",
    "system \"free | grep Mem\\n\";\n",
    "echo \"Content-type: text/html\"\n",
    "echo \"\"\n",
    "echo '<html>'\n",
    "echo '<head>'\n",
    "echo '<meta http-equiv=\"Content-Type\" content=\"text/html; charset=UTF-8\">'\n",
    "echo '<title>Hello World</title>'\n",
    "echo '</head>'\n",
    "echo '<body>'\n",
    "echo '<h1>Hello World</h1><p>'\n",
    "echo 'Using Bash<p>'\n",
    "free | grep Mem\n",
    "echo '</body>'\n",
    "echo '</html>'\n",
    "exit 0"
   ]
  }
 ],
 "metadata": {
  "kernelspec": {
   "display_name": "Python 3",
   "language": "python",
   "name": "python3"
  },
  "language_info": {
   "codemirror_mode": {
    "name": "ipython",
    "version": 3
   },
   "file_extension": ".py",
   "mimetype": "text/x-python",
   "name": "python",
   "nbconvert_exporter": "python",
   "pygments_lexer": "ipython3",
   "version": "3.7.8"
  }
 },
 "nbformat": 4,
 "nbformat_minor": 4
}
